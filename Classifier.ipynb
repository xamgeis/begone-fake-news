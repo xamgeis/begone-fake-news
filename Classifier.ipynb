{
 "cells": [
  {
   "cell_type": "code",
   "execution_count": 52,
   "metadata": {
    "collapsed": true
   },
   "outputs": [],
   "source": [
    "from sklearn.linear_model import SGDClassifier\n",
    "from sklearn.pipeline import Pipeline\n",
    "from sklearn.ensemble import AdaBoostClassifier\n",
    "from sklearn.model_selection import train_test_split\n",
    "from sklearn.naive_bayes import MultinomialNB\n",
    "from sklearn.feature_extraction.text import TfidfTransformer\n",
    "from sklearn.feature_extraction.text import CountVectorizer\n",
    "from sklearn.svm import LinearSVC\n",
    "from sklearn.externals import joblib\n",
    "import pandas as pd\n",
    "import numpy as np"
   ]
  },
  {
   "cell_type": "code",
   "execution_count": 21,
   "metadata": {
    "collapsed": false
   },
   "outputs": [
    {
     "name": "stdout",
     "output_type": "stream",
     "text": [
      "(18709, 6)\n"
     ]
    }
   ],
   "source": [
    "# Load data\n",
    "# Fake news is positive. Real news is 0.\n",
    "df_real = pd.read_csv(\"dataset/real_clean.csv\")\n",
    "df_real['label'] = 0\n",
    "\n",
    "df_fake = pd.read_csv(\"dataset/fake_clean.csv\")\n",
    "df_fake['label'] = 1\n",
    "\n",
    "# Concat the two datasets\n",
    "df = pd.concat([df_real,df_fake])\n",
    "df = df.reset_index(drop=True)\n",
    "header = [\"label\",\"authors\",\"date\",\"title\",\"text\",\"domain\"]\n",
    "df = df[header]\n",
    "print(df.shape)\n",
    "df.to_csv(\"dataset/data_clean.csv\",index=False,encoding='utf-8')"
   ]
  },
  {
   "cell_type": "code",
   "execution_count": 49,
   "metadata": {
    "collapsed": false
   },
   "outputs": [],
   "source": [
    "data = df.sample(frac=1).reset_index(drop=True)\n",
    "data = data[:2000]"
   ]
  },
  {
   "cell_type": "code",
   "execution_count": 50,
   "metadata": {
    "collapsed": false
   },
   "outputs": [
    {
     "name": "stdout",
     "output_type": "stream",
     "text": [
      "(1600, 6)\n",
      "(400, 6)\n"
     ]
    },
    {
     "data": {
      "text/plain": [
       "1301"
      ]
     },
     "execution_count": 50,
     "metadata": {},
     "output_type": "execute_result"
    }
   ],
   "source": [
    "df_train, df_test = train_test_split(data, test_size=0.20)\n",
    "print(df_train.shape)\n",
    "print(df_test.shape)\n",
    "sum(data['label'])"
   ]
  },
  {
   "cell_type": "code",
   "execution_count": 56,
   "metadata": {
    "collapsed": false
   },
   "outputs": [
    {
     "name": "stdout",
     "output_type": "stream",
     "text": [
      "(1600, 42196)\n",
      "(400, 42196)\n",
      "(1600, 42196)\n",
      "(400, 42196)\n"
     ]
    },
    {
     "name": "stderr",
     "output_type": "stream",
     "text": [
      "/Users/omnipotent/anaconda2/envs/py36/lib/python3.6/site-packages/sklearn/linear_model/stochastic_gradient.py:117: DeprecationWarning: n_iter parameter is deprecated in 0.19 and will be removed in 0.21. Use max_iter and tol instead.\n",
      "  DeprecationWarning)\n"
     ]
    }
   ],
   "source": [
    "# for idx, row in data.iterrows():\n",
    "#     if row[\"text\"] is np.nan:\n",
    "#         data.drop(idx, inplace=True)\n",
    "#     elif isinstance(row[\"text\"], str):\n",
    "#         data.set_value(idx, \"text\", clean_content(row[\"text\"]))\n",
    "\n",
    "\n",
    "count_vect = CountVectorizer(stop_words='english')\n",
    "X_train_counts = count_vect.fit_transform(df_train['text'])\n",
    "print(X_train_counts.shape)\n",
    "\n",
    "X_test_counts = count_vect.transform(df_test['text'])\n",
    "print(X_test_counts.shape)\n",
    "\n",
    "tfidf_transformer = TfidfTransformer()\n",
    "X_train_tfidf = tfidf_transformer.fit_transform(X_train_counts)\n",
    "X_test_tfidf = tfidf_transformer.transform(X_test_counts)\n",
    "print(X_train_tfidf.shape)\n",
    "print(X_test_tfidf.shape)\n",
    "\n",
    "\n",
    "\n",
    "# add punctuation features\n",
    "mnb_clf = MultinomialNB()\n",
    "mnb_clf.fit(X_train_tfidf, df_train['label'])\n",
    "ada_clf = AdaBoostClassifier(n_estimators=100).fit(X_train_tfidf, df_train['label'])\n",
    "# text_clf = SGDClassifier(loss='hinge', penalty='l2',alpha=1e-3, n_iter=5, random_state=42)\n",
    "# svm_clf = text_clf.fit(X_train_tfidf, df_train['label'])\n",
    "svm_clf = LinearSVC().fit(X_train_tfidf, df_train['label'])\n",
    "\n",
    "# joblib.dump(tfidf_transformer, 'tfidf_transformer.pkl')\n",
    "# joblib.dump(count_vect, 'count_vect.pkl')\n",
    "# joblib.dump(mnb_clf, 'mnb_clf.pkl')\n",
    "# joblib.dump(svm_clf, 'svm_clf.pkl')\n",
    "# joblib.dump(ada_clf, 'ada_clf.pkl')"
   ]
  },
  {
   "cell_type": "code",
   "execution_count": 57,
   "metadata": {
    "collapsed": false
   },
   "outputs": [
    {
     "name": "stdout",
     "output_type": "stream",
     "text": [
      "MNB:  0.78\n",
      "ADA:  0.915\n",
      "SVM:  0.8875\n",
      "Sketchy score:  0.860833333333\n"
     ]
    }
   ],
   "source": [
    "predicted = mnb_clf.predict(X_test_tfidf)\n",
    "ada_predictions = ada_clf.predict(X_test_tfidf)\n",
    "svm_predictions = svm_clf.predict(X_test_tfidf)\n",
    "\n",
    "ada_score = np.mean(ada_predictions == df_test['label'])\n",
    "mnb_score = np.mean(predicted == df_test['label'])\n",
    "svm_score = np.mean(svm_predictions == df_test['label'])\n",
    "\n",
    "print(\"MNB: \",mnb_score)\n",
    "print(\"ADA: \",ada_score)\n",
    "print(\"SVM: \",svm_score)\n",
    "\n",
    "sketchy_score = (mnb_score + ada_score + svm_score) / 3.0\n",
    "# sketchy_score = (mnb_score)\n",
    "print(\"Sketchy score: \",sketchy_score)"
   ]
  },
  {
   "cell_type": "code",
   "execution_count": null,
   "metadata": {
    "collapsed": true
   },
   "outputs": [],
   "source": []
  }
 ],
 "metadata": {
  "anaconda-cloud": {},
  "kernelspec": {
   "display_name": "Python [conda env:py36]",
   "language": "python",
   "name": "conda-env-py36-py"
  },
  "language_info": {
   "codemirror_mode": {
    "name": "ipython",
    "version": 3
   },
   "file_extension": ".py",
   "mimetype": "text/x-python",
   "name": "python",
   "nbconvert_exporter": "python",
   "pygments_lexer": "ipython3",
   "version": "3.6.3"
  }
 },
 "nbformat": 4,
 "nbformat_minor": 2
}
