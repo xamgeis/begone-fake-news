{
 "cells": [
  {
   "cell_type": "code",
   "execution_count": 1,
   "metadata": {},
   "outputs": [],
   "source": [
    "from sklearn.linear_model import SGDClassifier, LogisticRegression\n",
    "from sklearn.pipeline import Pipeline\n",
    "from sklearn.ensemble import AdaBoostClassifier\n",
    "from sklearn.model_selection import train_test_split\n",
    "from sklearn.naive_bayes import MultinomialNB\n",
    "from sklearn.feature_extraction.text import TfidfTransformer\n",
    "from sklearn.feature_extraction.text import CountVectorizer\n",
    "from sklearn.svm import LinearSVC\n",
    "from sklearn.externals import joblib\n",
    "import pandas as pd\n",
    "import numpy as np\n",
    "from sklearn.metrics import f1_score\n",
    "from sklearn.model_selection import GridSearchCV\n",
    "from sklearn.feature_extraction import text\n",
    "from PunctVectorizer import PunctVectorizer\n",
    "from CapsVectorizer import CapsVectorizer\n",
    "from collections import defaultdict\n",
    "import matplotlib.pyplot as plt\n",
    "import string"
   ]
  },
  {
   "cell_type": "code",
   "execution_count": 2,
   "metadata": {},
   "outputs": [],
   "source": [
    "# Uncomment to Join fake and real datasets\n",
    "# Load data\n",
    "# Fake news is positive. Real news is 0.\n",
    "# df_real = pd.read_csv(\"dataset/real_clean.csv\")\n",
    "# df_real['label'] = 0\n",
    "# print(df_real.shape)\n",
    "\n",
    "# df_fake = pd.read_csv(\"dataset/fake_clean.csv\")\n",
    "# df_fake['label'] = 1\n",
    "# print(df_fake.shape)\n",
    "\n",
    "# # Take 50/50\n",
    "# df_real = df_real.sample(frac=1).reset_index(drop=True)\n",
    "# df_real = df_real.loc[:df_fake.shape[0]]\n",
    "\n",
    "# # Concat the two datasets\n",
    "# df = pd.concat([df_real,df_fake])\n",
    "# df = df.reset_index(drop=True)\n",
    "# header = [\"label\",\"authors\",\"date\",\"title\",\"text\",\"domain\"]\n",
    "# df = df[header]\n",
    "# print(df.shape)\n",
    "# df.to_csv(\"dataset/data_clean.csv\",index=False,encoding='utf-8')"
   ]
  },
  {
   "cell_type": "markdown",
   "metadata": {},
   "source": [
    "# Load Dataset"
   ]
  },
  {
   "cell_type": "code",
   "execution_count": 29,
   "metadata": {},
   "outputs": [],
   "source": [
    "df = pd.read_csv(\"dataset/data_final.csv\")\n",
    "# data = df.sample(frac=1).reset_index(drop=True)\n",
    "data = df"
   ]
  },
  {
   "cell_type": "code",
   "execution_count": 30,
   "metadata": {},
   "outputs": [],
   "source": [
    "domains = set()\n",
    "for index, row in data.iterrows():\n",
    "    dom = row['domain']\n",
    "    if 'www' not in dom:\n",
    "        dom = dom[8:]\n",
    "        dom = dom.split('.')[0]\n",
    "    else:\n",
    "        dom = dom.split('.')[1]\n",
    "    \n",
    "    domains.add(dom.lower())\n",
    "    \n",
    "domains = list(domains)\n",
    "stop_words = text.ENGLISH_STOP_WORDS.union(domains)"
   ]
  },
  {
   "cell_type": "code",
   "execution_count": 31,
   "metadata": {},
   "outputs": [
    {
     "name": "stdout",
     "output_type": "stream",
     "text": [
      "(7626, 6) (12023, 6)\n"
     ]
    }
   ],
   "source": [
    "# Split the data into train and test by domain\n",
    "domain_list = data.domain.values\n",
    "domain_cnt = defaultdict(int)\n",
    "domain_lbl = defaultdict(int)\n",
    "for d in domain_list:\n",
    "    domain_cnt[d] += 1\n",
    "    \n",
    "for index, row in data.iterrows():\n",
    "    if row['label'] == 1:\n",
    "        domain_lbl[row['domain']] = 1\n",
    "        \n",
    "# Sort into most popular fake and real domains\n",
    "domain_list = np.array(list(domain_cnt.keys()))\n",
    "fake_doms = defaultdict(int)\n",
    "real_doms = defaultdict(int)\n",
    "\n",
    "for d in domain_list:\n",
    "    if domain_lbl[d] == 1:\n",
    "        fake_doms[d] = domain_cnt[d]\n",
    "    else:\n",
    "        real_doms[d] = domain_cnt[d]\n",
    "\n",
    "fake_sorted_ind = np.argsort(list(fake_doms.values()))[::-1]\n",
    "real_sorted_ind = np.argsort(list(real_doms.values()))[::-1]\n",
    "\n",
    "train_domains = []\n",
    "test_domains = []\n",
    "\n",
    "fake_keys = list(fake_doms.keys())\n",
    "real_keys = list(real_doms.keys())\n",
    "for index, val in enumerate(real_sorted_ind):\n",
    "    if index % 2 != 0:\n",
    "        train_domains.append(real_keys[val])\n",
    "    else:\n",
    "        test_domains.append(real_keys[val])\n",
    "        \n",
    "for index, val in enumerate(fake_sorted_ind):\n",
    "    if index % 2 != 0:\n",
    "        train_domains.append(fake_keys[val])\n",
    "    else:\n",
    "        test_domains.append(fake_keys[val])\n",
    "        \n",
    "# Take first 80% for training\n",
    "# train_domains = domain_list[sorted_indices[:int(sorted_indices.shape[0]*.80)]]\n",
    "# test_domains = domain_list[sorted_indices[int(sorted_indices.shape[0]*.80):]]\n",
    "\n",
    "# df.loc[df['column_name'].isin(some_values)]\n",
    "df_train = df.loc[df['domain'].isin(train_domains)]\n",
    "# df_train, df_val = train_test_split(df_train, test_size=0.01)\n",
    "\n",
    "df_test = df.loc[df['domain'].isin(test_domains)]\n",
    "\n",
    "print(df_train.shape, df_test.shape) # df_val.shape)"
   ]
  },
  {
   "cell_type": "markdown",
   "metadata": {},
   "source": [
    "# Classifiers"
   ]
  },
  {
   "cell_type": "markdown",
   "metadata": {},
   "source": [
    "### Punctuation classifier"
   ]
  },
  {
   "cell_type": "code",
   "execution_count": 32,
   "metadata": {},
   "outputs": [
    {
     "name": "stdout",
     "output_type": "stream",
     "text": [
      "(7626, 32)\n",
      "(12023, 32)\n"
     ]
    }
   ],
   "source": [
    "punct_count_vect = PunctVectorizer()\n",
    "X_train_counts = punct_count_vect.fit_transform(df_train['text'])\n",
    "print(X_train_counts.shape)\n",
    "\n",
    "X_test_counts = punct_count_vect.transform(df_test['text'])\n",
    "print(X_test_counts.shape)\n",
    "\n",
    "# X_test_counts_val = punct_count_vect.transform(df_val['text'])\n",
    "# print(X_test_counts_val.shape)"
   ]
  },
  {
   "cell_type": "code",
   "execution_count": 33,
   "metadata": {},
   "outputs": [],
   "source": [
    "punct_svm_clf = LinearSVC(C=0.1, class_weight='balanced').fit(X_train_counts, df_train['label'])\n",
    "\n",
    "punct_predictions = punct_svm_clf.predict(X_test_counts)\n",
    "# punct_predictions_val = punct_svm_clf.predict(X_test_counts_val)\n",
    "\n",
    "punct_score = np.mean(punct_predictions == df_test['label'])\n",
    "# punct_score_val = np.mean(punct_predictions_val == df_val['label'])\n",
    "\n",
    "punct_conf = punct_svm_clf.decision_function(X_test_counts)\n",
    "# punct_conf_val = punct_svm_clf.decision_function(X_test_counts_val)"
   ]
  },
  {
   "cell_type": "markdown",
   "metadata": {},
   "source": [
    "### Caps classifier"
   ]
  },
  {
   "cell_type": "code",
   "execution_count": 34,
   "metadata": {},
   "outputs": [
    {
     "name": "stdout",
     "output_type": "stream",
     "text": [
      "(7626, 29)\n",
      "(12023, 29)\n"
     ]
    }
   ],
   "source": [
    "caps_count_vect = CapsVectorizer()\n",
    "X_train_counts = caps_count_vect.fit_transform(df_train['text'])\n",
    "print(X_train_counts.shape)\n",
    "\n",
    "X_test_counts = caps_count_vect.transform(df_test['text'])\n",
    "print(X_test_counts.shape)\n",
    "\n",
    "# X_test_counts_val = caps_count_vect.transform(df_val['text'])\n",
    "# print(X_test_counts_val.shape)"
   ]
  },
  {
   "cell_type": "code",
   "execution_count": 35,
   "metadata": {},
   "outputs": [],
   "source": [
    "caps_svm_clf = LinearSVC(class_weight='balanced').fit(X_train_counts, df_train['label'])\n",
    "\n",
    "caps_predictions = caps_svm_clf.predict(X_test_counts)\n",
    "# caps_predictions_val = caps_svm_clf.predict(X_test_counts_val)\n",
    "\n",
    "caps_score = np.mean(caps_predictions == df_test['label'])\n",
    "# caps_score_val = np.mean(caps_predictions_val == df_val['label'])\n",
    "\n",
    "caps_conf = caps_svm_clf.decision_function(X_test_counts)\n",
    "# caps_conf_val = caps_svm_clf.decision_function(X_test_counts_val)"
   ]
  },
  {
   "cell_type": "markdown",
   "metadata": {},
   "source": [
    "### Text classifier"
   ]
  },
  {
   "cell_type": "code",
   "execution_count": 36,
   "metadata": {},
   "outputs": [
    {
     "name": "stdout",
     "output_type": "stream",
     "text": [
      "(7626, 83574)\n",
      "(12023, 83574)\n"
     ]
    }
   ],
   "source": [
    "count_vect = CountVectorizer(stop_words=stop_words,binary=False)\n",
    "X_train_counts = count_vect.fit_transform(df_train['text'])\n",
    "print(X_train_counts.shape)\n",
    "\n",
    "X_test_counts = count_vect.transform(df_test['text'])\n",
    "print(X_test_counts.shape)\n",
    "\n",
    "# X_test_counts_val = count_vect.transform(df_val['text'])\n",
    "# print(X_test_counts_val.shape)"
   ]
  },
  {
   "cell_type": "code",
   "execution_count": 37,
   "metadata": {},
   "outputs": [],
   "source": [
    "# tfidf_transformer = TfidfTransformer()\n",
    "# X_train_tfidf = tfidf_transformer.fit_transform(X_train_counts)\n",
    "# X_test_tfidf = tfidf_transformer.transform(X_test_counts)\n",
    "# X_val_tfidf = tfidf_transformer.transform(X_test_counts_val)\n",
    "\n",
    "# Uncomment for Bag of Words:\n",
    "X_train_tfidf = X_train_counts \n",
    "X_test_tfidf = X_test_counts\n",
    "\n",
    "# add punctuation features\n",
    "svm_clf = LinearSVC(class_weight='balanced').fit(X_train_tfidf, df_train['label'])\n",
    "\n",
    "svm_predictions = svm_clf.predict(X_test_tfidf)\n",
    "# svm_predictions_val = svm_clf.predict(X_test_counts_val)\n",
    "\n",
    "svm_score = np.mean(svm_predictions == df_test['label'])\n",
    "# svm_score_val = np.mean(svm_predictions_val == df_val['label'])\n",
    "\n",
    "svm_conf = svm_clf.decision_function(X_test_tfidf)\n",
    "# svm_conf_val = svm_clf.decision_function(X_val_tfidf)"
   ]
  },
  {
   "cell_type": "markdown",
   "metadata": {},
   "source": [
    "### Compare confidences and predict"
   ]
  },
  {
   "cell_type": "code",
   "execution_count": 38,
   "metadata": {
    "scrolled": false
   },
   "outputs": [],
   "source": [
    "y_test = df_test['label']\n",
    "# y_val = df_val['label']\n",
    "\n",
    "punct_f1 = f1_score(y_test, punct_predictions, average='binary')\n",
    "caps_f1 = f1_score(y_test, caps_predictions, average='binary')\n",
    "tfidf_f1 = f1_score(y_test, svm_predictions, average='binary')"
   ]
  },
  {
   "cell_type": "code",
   "execution_count": 39,
   "metadata": {},
   "outputs": [
    {
     "name": "stdout",
     "output_type": "stream",
     "text": [
      "Individual Unseen Domain Accuracies:\n",
      "Punct SVM:\t0.731098727439\n",
      "Punct SVM F1:\t0.752772042517\n",
      "Caps SVM:\t0.524993761956\n",
      "Caps SVM F1:\t0.637327744967\n",
      "TFIDF SVM:\t0.790152208267\n",
      "TFIDF SVM F1:\t0.789346246973\n"
     ]
    }
   ],
   "source": [
    "print(\"Individual Unseen Domain Accuracies:\")\n",
    "print(\"Punct SVM:\\t\" + str(punct_score))\n",
    "print(\"Punct SVM F1:\\t\" + str(punct_f1))\n",
    "print(\"Caps SVM:\\t\" + str(caps_score))\n",
    "print(\"Caps SVM F1:\\t\" + str(caps_f1))\n",
    "print(\"TFIDF SVM:\\t\" + str(svm_score))\n",
    "print(\"TFIDF SVM F1:\\t\" + str(tfidf_f1))\n",
    "# print(\"\\nIndividual Seen Domain Accuracies:\")\n",
    "# print(\"Punct SVM:\\t\" + str(punct_score_val))\n",
    "# print(\"Caps SVM:\\t\" + str(caps_score_val))\n",
    "# print(\"TFIDF SVM:\\t\" + str(svm_score_val))"
   ]
  },
  {
   "cell_type": "code",
   "execution_count": 40,
   "metadata": {},
   "outputs": [],
   "source": [
    "svm_unseen_predictions = [0] * len(y_test)\n",
    "for i in range(0, len(y_test)):\n",
    "    val = (punct_score * punct_conf[i]) + (0 * caps_conf[i]) + (svm_score * svm_conf[i])\n",
    "    if val > 0:\n",
    "        svm_unseen_predictions[i] = 1\n",
    "# svm_seen_predictions = [0] * len(y_val)\n",
    "# for i in range(0, len(y_val)):\n",
    "#     val = (punct_score_val * punct_conf_val[i]) + (0 * caps_conf_val[i]) + (svm_score_val * svm_conf_val[i])\n",
    "#     if val > 0:\n",
    "#         svm_seen_predictions[i] = 1"
   ]
  },
  {
   "cell_type": "code",
   "execution_count": 41,
   "metadata": {
    "scrolled": true
   },
   "outputs": [
    {
     "name": "stdout",
     "output_type": "stream",
     "text": [
      "Testing Scores\n",
      "Unseen Domain Ensemble: \n",
      "\tf1_score: 0.7987104240720839\n",
      "\taccuracy: 0.797471512933544 \n"
     ]
    }
   ],
   "source": [
    "f1_svm_unseen_score = f1_score(y_test, svm_unseen_predictions, average='binary') \n",
    "# f1_svm_seen_score = f1_score(y_val, svm_seen_predictions, average='macro') \n",
    "\n",
    "svm_unseen_score = np.mean(svm_unseen_predictions == y_test)\n",
    "# svm_seen_score = np.mean(svm_seen_predictions == y_val)\n",
    "\n",
    "print(\"Testing Scores\")\n",
    "print(\"Unseen Domain Ensemble: \\n\\tf1_score: {}\\n\\taccuracy: {} \".format(f1_svm_unseen_score, svm_unseen_score))\n",
    "# print(\"Seen Domain Ensemble: \\n\\tf1_score: {}\\n\\taccuracy: {} \".format(f1_svm_seen_score, svm_seen_score))"
   ]
  },
  {
   "cell_type": "markdown",
   "metadata": {},
   "source": [
    "## SVM Grid Search"
   ]
  },
  {
   "cell_type": "code",
   "execution_count": null,
   "metadata": {},
   "outputs": [],
   "source": [
    "### Grid Search on SVM\n",
    "stop_words = text.ENGLISH_STOP_WORDS.union(domains)\n",
    "clf_svm = Pipeline([('vect', CountVectorizer(stop_words=stop_words)),\n",
    "                     ('tfidf', TfidfTransformer()),\n",
    "                     ('clf', LinearSVC())\n",
    "                    ])\n",
    "Cs = [0.001,.01,.1,1,10,100]\n",
    "use_idf = [True,False]\n",
    "parameters = {\n",
    "    'tfidf__use_idf':(True,False),\n",
    "    'clf__C':np.array([0.001,.01,.1,1,10,100])\n",
    "}\n",
    "\n",
    "gs_clf = GridSearchCV(clf_svm, parameters, n_jobs=-1)\n",
    "gs_clf = gs_clf.fit(df_train['text'],df_train['label'])\n",
    "gs_clf_svm = gs_clf"
   ]
  },
  {
   "cell_type": "code",
   "execution_count": null,
   "metadata": {},
   "outputs": [],
   "source": [
    "# Graph Results\n",
    "scores = [x[1] for x in gs_clf.grid_scores_]\n",
    "scores = np.array(scores).reshape(len(Cs), len(use_idf))\n",
    "\n",
    "fig = plt.figure(1)\n",
    "ax2 = fig.add_subplot(212)\n",
    "\n",
    "a = np.arange(len(Cs))\n",
    "# for ind, i in enumerate(use_idf):\n",
    "ax2.plot(a, scores[:,0], label='Use TF-IDF: ' + str(use_idf[0]))\n",
    "ax2.plot(a, scores[:,1], label='Use TF-IDF: ' + str(use_idf[1]))\n",
    "\n",
    "ax2.xaxis.set_ticks(a)\n",
    "ax2.xaxis.set_ticklabels(Cs)\n",
    "\n",
    "plt.legend()\n",
    "plt.xlabel('Cs')\n",
    "plt.ylabel('Cross-Validation Score')\n",
    "plt.show()"
   ]
  },
  {
   "cell_type": "markdown",
   "metadata": {},
   "source": [
    "## MultinomialNB Grid Search"
   ]
  },
  {
   "cell_type": "code",
   "execution_count": 117,
   "metadata": {},
   "outputs": [
    {
     "name": "stderr",
     "output_type": "stream",
     "text": [
      "/home/max/anaconda2/envs/py36/lib/python3.6/site-packages/sklearn/naive_bayes.py:472: UserWarning: alpha too small will result in numeric errors, setting alpha = 1.0e-10\n",
      "  'setting alpha = %.1e' % _ALPHA_MIN)\n",
      "/home/max/anaconda2/envs/py36/lib/python3.6/site-packages/sklearn/naive_bayes.py:472: UserWarning: alpha too small will result in numeric errors, setting alpha = 1.0e-10\n",
      "  'setting alpha = %.1e' % _ALPHA_MIN)\n",
      "/home/max/anaconda2/envs/py36/lib/python3.6/site-packages/sklearn/naive_bayes.py:472: UserWarning: alpha too small will result in numeric errors, setting alpha = 1.0e-10\n",
      "  'setting alpha = %.1e' % _ALPHA_MIN)\n",
      "/home/max/anaconda2/envs/py36/lib/python3.6/site-packages/sklearn/naive_bayes.py:472: UserWarning: alpha too small will result in numeric errors, setting alpha = 1.0e-10\n",
      "  'setting alpha = %.1e' % _ALPHA_MIN)\n",
      "/home/max/anaconda2/envs/py36/lib/python3.6/site-packages/sklearn/naive_bayes.py:472: UserWarning: alpha too small will result in numeric errors, setting alpha = 1.0e-10\n",
      "  'setting alpha = %.1e' % _ALPHA_MIN)\n",
      "/home/max/anaconda2/envs/py36/lib/python3.6/site-packages/sklearn/naive_bayes.py:472: UserWarning: alpha too small will result in numeric errors, setting alpha = 1.0e-10\n",
      "  'setting alpha = %.1e' % _ALPHA_MIN)\n"
     ]
    }
   ],
   "source": [
    "### Grid Search on MNB\n",
    "clf = Pipeline([('vect', CountVectorizer(stop_words=stop_words)),\n",
    "                     ('tfidf', TfidfTransformer()),\n",
    "                     ('clf', MultinomialNB())\n",
    "                    ])\n",
    "alphas = [1e-3,1e-2,1e-1,0,1,10,100]\n",
    "parameters = {\n",
    "    'tfidf__use_idf':(True,False),    \n",
    "    'clf__alpha':np.array(alphas)}\n",
    "gs_clf = GridSearchCV(clf, parameters, n_jobs=-1)\n",
    "gs_clf = gs_clf.fit(df_train.text,df_train.label)\n",
    "gs_clf_mnb = gs_clf"
   ]
  },
  {
   "cell_type": "code",
   "execution_count": 108,
   "metadata": {},
   "outputs": [
    {
     "name": "stderr",
     "output_type": "stream",
     "text": [
      "/home/max/anaconda2/envs/py36/lib/python3.6/site-packages/sklearn/model_selection/_search.py:761: DeprecationWarning: The grid_scores_ attribute was deprecated in version 0.18 in favor of the more elaborate cv_results_ attribute. The grid_scores_ attribute will not be available from 0.20\n",
      "  DeprecationWarning)\n"
     ]
    },
    {
     "data": {
      "image/png": "[encoded data removed]",
      "text/plain": [
       "<matplotlib.figure.Figure at 0x7f3128d16cf8>"
      ]
     },
     "metadata": {},
     "output_type": "display_data"
    }
   ],
   "source": [
    "# Graph Results\n",
    "scores = [x[1] for x in gs_clf.grid_scores_]\n",
    "scores = np.array(scores).reshape(len(alphas), len(use_idf))\n",
    "\n",
    "fig = plt.figure(1)\n",
    "ax2 = fig.add_subplot(212)\n",
    "\n",
    "a = np.arange(len(alphas))\n",
    "# for ind, i in enumerate(use_idf):\n",
    "ax2.plot(a, scores[:,0], label='Use TF-IDF: ' + str(use_idf[0]))\n",
    "ax2.plot(a, scores[:,1], label='Use TF-IDF: ' + str(use_idf[1]))\n",
    "\n",
    "ax2.xaxis.set_ticks(a)\n",
    "ax2.xaxis.set_ticklabels(alphas)\n",
    "\n",
    "plt.legend()\n",
    "plt.xlabel('Alphas')\n",
    "plt.ylabel('Cross-Validation Score')\n",
    "plt.show()"
   ]
  },
  {
   "cell_type": "markdown",
   "metadata": {},
   "source": [
    "## Logistic Regression Grid Search"
   ]
  },
  {
   "cell_type": "code",
   "execution_count": 118,
   "metadata": {},
   "outputs": [],
   "source": [
    "### Logisitic Regression\n",
    "clf = Pipeline([\n",
    "    ('vect', CountVectorizer(stop_words=stop_words)),\n",
    "    ('tfidf', TfidfTransformer()),\n",
    "    ('clf', LogisticRegression())\n",
    "])\n",
    "alphas = [0.001,0.01,.1,1,10,100]\n",
    "parameters = {'tfidf__use_idf':(True,False),\n",
    "              'clf__C':alphas }\n",
    "gs_clf = GridSearchCV(clf,parameters, n_jobs=-1)\n",
    "gs_clf = gs_clf.fit(df_train.text, df_train.label)\n",
    "gs_clf_log = gs_clf"
   ]
  },
  {
   "cell_type": "code",
   "execution_count": 114,
   "metadata": {},
   "outputs": [
    {
     "name": "stderr",
     "output_type": "stream",
     "text": [
      "/home/max/anaconda2/envs/py36/lib/python3.6/site-packages/sklearn/model_selection/_search.py:761: DeprecationWarning: The grid_scores_ attribute was deprecated in version 0.18 in favor of the more elaborate cv_results_ attribute. The grid_scores_ attribute will not be available from 0.20\n",
      "  DeprecationWarning)\n"
     ]
    },
    {
     "data": {
      "image/png": "[encoded data removed]",
      "text/plain": [
       "<matplotlib.figure.Figure at 0x7f31289936d8>"
      ]
     },
     "metadata": {},
     "output_type": "display_data"
    }
   ],
   "source": [
    "# Graph Results\n",
    "scores = [x[1] for x in gs_clf.grid_scores_]\n",
    "scores = np.array(scores).reshape(len(alphas), len(use_idf))\n",
    "\n",
    "fig = plt.figure(1)\n",
    "ax2 = fig.add_subplot(212)\n",
    "\n",
    "a = np.arange(len(alphas))\n",
    "# for ind, i in enumerate(use_idf):\n",
    "ax2.plot(a, scores[:,0], label='Use TF-IDF: ' + str(use_idf[0]))\n",
    "ax2.plot(a, scores[:,1], label='Use TF-IDF: ' + str(use_idf[1]))\n",
    "\n",
    "ax2.xaxis.set_ticks(a)\n",
    "ax2.xaxis.set_ticklabels(alphas)\n",
    "\n",
    "plt.legend()\n",
    "plt.xlabel('Alphas')\n",
    "plt.ylabel('Cross-Validation Score')\n",
    "plt.show()"
   ]
  },
  {
   "cell_type": "code",
   "execution_count": 115,
   "metadata": {},
   "outputs": [
    {
     "name": "stdout",
     "output_type": "stream",
     "text": [
      "MNB: \n",
      "f1_score: 0.9149243626207764\n",
      "accuracy: 0.9149348362099331 \n"
     ]
    }
   ],
   "source": [
    "predictions = gs_clf.predict(df_test.text)\n",
    "f1 = f1_score(y_test, predictions, average='macro') \n",
    "\n",
    "accuracy = np.mean(predictions == df_test.label)\n",
    "\n",
    "print(\"MNB: \\nf1_score: {}\\naccuracy: {} \".format(f1,accuracy))"
   ]
  },
  {
   "cell_type": "code",
   "execution_count": null,
   "metadata": {},
   "outputs": [],
   "source": [
    "joblib.dump(tfidf_transformer, 'Classifiers/tfidf_transformer.pkl')\n",
    "joblib.dump(count_vect, 'Classifiers/count_vect.pkl')\n",
    "joblib.dump(gs_clf_mnb, 'Classifiers/mnb_clf.pkl')\n",
    "joblib.dump(gs_clf_svm, 'Classifiers/svm_clf.pkl')\n",
    "joblib.dump(gs_clf_log, 'Classifiers/log_clf.pkl')"
   ]
  },
  {
   "cell_type": "code",
   "execution_count": null,
   "metadata": {
    "collapsed": true
   },
   "outputs": [],
   "source": [
    "# BAG with binary values\n",
    "MNB:  0.861208256256\n",
    "ADA:  0.88692961527\n",
    "SVM:  0.923427548456\n",
    "## not removing words \n",
    "MNB:  0.852378705631\n",
    "ADA:  0.899721784937\n",
    "SVM:  0.92836786749\n",
    "\n",
    "# BAG with counts\n",
    "MNB:  0.84710843052\n",
    "ADA:  0.886742948335\n",
    "SVM:  0.898489979131\n",
    "## not removing them stop_words\n",
    "MNB:  0.842206021811\n",
    "ADA:  0.908575135645\n",
    "SVM:  0.890657568726\n",
    "\n",
    "    \n",
    "# TF-IDF with counts\n",
    "MNB:  0.837786994578\n",
    "ADA:  0.896513330028\n",
    "SVM:  0.937466064963\n",
    "## not removing stop_words\n",
    "MNB:  0.812818743373\n",
    "ADA:  0.895799488985\n",
    "SVM:  0.918595836606\n",
    "\n",
    "# TF-IDF with binary\n",
    "MNB:  0.839523809524\n",
    "ADA:  0.904650376856\n",
    "SVM:  0.941407136367\n",
    "## not removing stop_words\n",
    "MNB:  0.836683634874\n",
    "ADA:  0.88884002199\n",
    "SVM:  0.936449567452\n"
   ]
  },
  {
   "cell_type": "markdown",
   "metadata": {},
   "source": [
    "# 10 Most Positive and Negative associated weights"
   ]
  },
  {
   "cell_type": "code",
   "execution_count": 130,
   "metadata": {},
   "outputs": [
    {
     "name": "stdout",
     "output_type": "stream",
     "text": [
      "The 10 unigrams/bigrams with the most positive associated weights:\n",
      "\thttps\n",
      "\tap\n",
      "\tradio\n",
      "\tsource\n",
      "\tloading\n",
      "\tдекабря\n",
      "\tthink\n",
      "\tpic\n",
      "\trep\n",
      "\tdonate\n",
      "The 10 unigrams/bigrams with the most positive associated weights:\n",
      "\treuters\n",
      "\tnewsroom\n",
      "\tphoto\n",
      "\tsaid\n",
      "\tnovember\n",
      "\taugust\n",
      "\tcredit\n",
      "\tcaption\n",
      "\t2017\n",
      "\tstory\n"
     ]
    }
   ],
   "source": [
    "theta = svm_clf.coef_\n",
    "word_map = count_vect.get_feature_names()\n",
    "\n",
    "# Find the indicies of the 5 most positive values in theta\n",
    "indicies = theta[0].argsort()[-10:][::-1]\n",
    "print(\"The 10 unigrams/bigrams with the most positive associated weights:\")\n",
    "for i in indicies:\n",
    "    print(\"\\t{}\".format(word_map[i]))\n",
    "\n",
    "indicies = theta[0].argsort()[:10]\n",
    "print(\"The 10 unigrams/bigrams with the most positive associated weights:\")\n",
    "for i in indicies:\n",
    "    print(\"\\t{}\".format(word_map[i]))"
   ]
  },
  {
   "cell_type": "markdown",
   "metadata": {
    "collapsed": true
   },
   "source": [
    "## Classifier using Punctuation and Classification"
   ]
  },
  {
   "cell_type": "code",
   "execution_count": 60,
   "metadata": {},
   "outputs": [
    {
     "data": {
      "text/plain": [
       "(1600, 42196)"
      ]
     },
     "execution_count": 60,
     "metadata": {},
     "output_type": "execute_result"
    }
   ],
   "source": [
    "# Add punctuation feature\n",
    "data['text']"
   ]
  },
  {
   "cell_type": "code",
   "execution_count": null,
   "metadata": {},
   "outputs": [],
   "source": []
  },
  {
   "cell_type": "code",
   "execution_count": null,
   "metadata": {
    "collapsed": true
   },
   "outputs": [],
   "source": []
  }
 ],
 "metadata": {
  "anaconda-cloud": {},
  "kernelspec": {
   "display_name": "Python 3",
   "language": "python",
   "name": "python3"
  },
  "language_info": {
   "codemirror_mode": {
    "name": "ipython",
    "version": 3
   },
   "file_extension": ".py",
   "mimetype": "text/x-python",
   "name": "python",
   "nbconvert_exporter": "python",
   "pygments_lexer": "ipython3",
   "version": "3.5.1"
  }
 },
 "nbformat": 4,
 "nbformat_minor": 2
}
