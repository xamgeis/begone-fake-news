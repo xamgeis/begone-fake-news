{
 "cells": [
  {
   "cell_type": "code",
   "execution_count": 16,
   "metadata": {},
   "outputs": [],
   "source": [
    "from sklearn.linear_model import SGDClassifier\n",
    "from sklearn.pipeline import Pipeline\n",
    "from sklearn.ensemble import AdaBoostClassifier\n",
    "from sklearn.model_selection import train_test_split\n",
    "from sklearn.naive_bayes import MultinomialNB\n",
    "from sklearn.feature_extraction.text import TfidfTransformer\n",
    "from sklearn.feature_extraction.text import CountVectorizer\n",
    "from sklearn.svm import LinearSVC\n",
    "from sklearn.externals import joblib\n",
    "from PunctVectorizer import PunctVectorizer\n",
    "import pandas as pd\n",
    "import numpy as np"
   ]
  },
  {
   "cell_type": "code",
   "execution_count": 11,
   "metadata": {},
   "outputs": [],
   "source": [
    "# Load data\n",
    "# Fake news is 1. Real news is 0.\n",
    "df = pd.read_csv(\"dataset/data_clean.csv\")"
   ]
  },
  {
   "cell_type": "code",
   "execution_count": 12,
   "metadata": {},
   "outputs": [],
   "source": [
    "data = df.sample(frac=1).reset_index(drop=True)"
   ]
  },
  {
   "cell_type": "code",
   "execution_count": 13,
   "metadata": {},
   "outputs": [
    {
     "name": "stdout",
     "output_type": "stream",
     "text": [
      "(9354, 6)\n",
      "(9355, 6)\n"
     ]
    },
    {
     "data": {
      "text/plain": [
       "12357"
      ]
     },
     "execution_count": 13,
     "metadata": {},
     "output_type": "execute_result"
    }
   ],
   "source": [
    "df_train, df_test = train_test_split(data, test_size=0.50)\n",
    "print(df_train.shape)\n",
    "print(df_test.shape)\n",
    "sum(data['label'])"
   ]
  },
  {
   "cell_type": "code",
   "execution_count": 19,
   "metadata": {},
   "outputs": [
    {
     "name": "stdout",
     "output_type": "stream",
     "text": [
      "(9354, 32)\n",
      "(9355, 32)\n"
     ]
    }
   ],
   "source": [
    "count_vect = PunctVectorizer()\n",
    "X_train_counts = count_vect.fit_transform(df_train['text'])\n",
    "print(X_train_counts.shape)\n",
    "\n",
    "X_test_counts = count_vect.transform(df_test['text'])\n",
    "print(X_test_counts.shape)\n",
    "\n",
    "mnb_clf = MultinomialNB().fit(X_train_counts, df_train['label'])\n",
    "svm_clf = LinearSVC().fit(X_train_counts, df_train['label'])"
   ]
  },
  {
   "cell_type": "code",
   "execution_count": 21,
   "metadata": {},
   "outputs": [
    {
     "name": "stdout",
     "output_type": "stream",
     "text": [
      "MNB:  0.723997862106\n",
      "SVM:  0.73778727953\n"
     ]
    }
   ],
   "source": [
    "mnb_predictions = mnb_clf.predict(X_test_counts)\n",
    "svm_predictions = svm_clf.predict(X_test_counts)\n",
    "\n",
    "mnb_score = np.mean(mnb_predictions == df_test['label'])\n",
    "svm_score = np.mean(svm_predictions == df_test['label'])\n",
    "\n",
    "print(\"MNB: \",mnb_score)\n",
    "print(\"SVM: \",svm_score)"
   ]
  },
  {
   "cell_type": "code",
   "execution_count": 25,
   "metadata": {},
   "outputs": [
    {
     "name": "stdout",
     "output_type": "stream",
     "text": [
      "['!', '\"', '#', '$', '%', '&', \"'\", '(', ')', '*', '+', ',', '-', '.', '/', ':', ';', '<', '=', '>', '?', '@', '[', '\\\\', ']', '^', '_', '`', '{', '|', '}', '~']\n"
     ]
    }
   ],
   "source": [
    "print(count_vect.get_feature_names())"
   ]
  },
  {
   "cell_type": "code",
   "execution_count": 53,
   "metadata": {},
   "outputs": [
    {
     "name": "stdout",
     "output_type": "stream",
     "text": [
      "354\t: [11]\n",
      "440\t: [12]\n",
      "477\t: [13]\n",
      "727\t: [23]\n",
      "841\t: [35]\n",
      "885\t: [19]\n",
      "905\t: [26]\n",
      "1194\t: [12]\n",
      "1354\t: [143]\n",
      "1416\t: [16]\n",
      "1780\t: [53]\n",
      "1982\t: [15]\n",
      "2144\t: [64]\n",
      "2182\t: [28]\n",
      "2304\t: [33]\n",
      "2346\t: [13]\n",
      "2376\t: [22]\n",
      "2392\t: [79]\n",
      "3505\t: [12]\n",
      "3514\t: [11]\n",
      "3674\t: [12]\n",
      "4010\t: [14]\n",
      "4187\t: [19]\n",
      "4331\t: [11]\n",
      "4639\t: [21]\n",
      "4698\t: [78]\n",
      "4868\t: [11]\n",
      "5436\t: [18]\n",
      "5574\t: [11]\n",
      "5683\t: [15]\n",
      "5816\t: [13]\n",
      "6257\t: [58]\n",
      "6265\t: [28]\n",
      "6308\t: [11]\n",
      "6312\t: [12]\n",
      "6325\t: [12]\n",
      "6590\t: [20]\n",
      "6684\t: [12]\n",
      "6897\t: [14]\n",
      "6913\t: [14]\n",
      "7163\t: [12]\n",
      "7198\t: [15]\n",
      "7697\t: [35]\n",
      "7793\t: [14]\n",
      "7984\t: [31]\n",
      "8420\t: [90]\n",
      "8655\t: [41]\n",
      "8933\t: [12]\n",
      "8948\t: [12]\n",
      "9157\t: [11]\n",
      "9265\t: [15]\n",
      "9315\t: [30]\n"
     ]
    }
   ],
   "source": [
    "x = X_test_counts[:,0].toarray()\n",
    "for index, r in enumerate(x):\n",
    "    if r > 10:\n",
    "        print(str(index) + \"\\t: \" + str(r))"
   ]
  },
  {
   "cell_type": "code",
   "execution_count": null,
   "metadata": {},
   "outputs": [],
   "source": []
  }
 ],
 "metadata": {
  "kernelspec": {
   "display_name": "Python 3",
   "language": "python",
   "name": "python3"
  },
  "language_info": {
   "codemirror_mode": {
    "name": "ipython",
    "version": 3
   },
   "file_extension": ".py",
   "mimetype": "text/x-python",
   "name": "python",
   "nbconvert_exporter": "python",
   "pygments_lexer": "ipython3",
   "version": "3.5.1"
  }
 },
 "nbformat": 4,
 "nbformat_minor": 2
}
