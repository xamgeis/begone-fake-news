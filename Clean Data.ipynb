{
 "cells": [
  {
   "cell_type": "code",
   "execution_count": 1,
   "metadata": {
    "collapsed": true
   },
   "outputs": [],
   "source": [
    "import pickle\n",
    "import pandas as pd\n",
    "import numpy as np\n",
    "import matplotlib.pyplot as plt\n",
    "import scipy.stats as stats"
   ]
  },
  {
   "cell_type": "code",
   "execution_count": 151,
   "metadata": {
    "collapsed": false
   },
   "outputs": [
    {
     "name": "stdout",
     "output_type": "stream",
     "text": [
      "(8068, 7)\n"
     ]
    },
    {
     "data": {
      "text/html": [
       "<div>\n",
       "<style>\n",
       "    .dataframe thead tr:only-child th {\n",
       "        text-align: right;\n",
       "    }\n",
       "\n",
       "    .dataframe thead th {\n",
       "        text-align: left;\n",
       "    }\n",
       "\n",
       "    .dataframe tbody tr th {\n",
       "        vertical-align: top;\n",
       "    }\n",
       "</style>\n",
       "<table border=\"1\" class=\"dataframe\">\n",
       "  <thead>\n",
       "    <tr style=\"text-align: right;\">\n",
       "      <th></th>\n",
       "      <th>url</th>\n",
       "      <th>title</th>\n",
       "      <th>html</th>\n",
       "      <th>text</th>\n",
       "      <th>authors</th>\n",
       "      <th>domain</th>\n",
       "      <th>word_count</th>\n",
       "    </tr>\n",
       "  </thead>\n",
       "  <tbody>\n",
       "    <tr>\n",
       "      <th>0</th>\n",
       "      <td>http://www.bbc.com/news/world-latin-america-42187139</td>\n",
       "      <td>Argentina ends missing sub 'rescue mission'</td>\n",
       "      <td>&lt;!DOCTYPE html&gt;\\n&lt;html lang=\"en\" id=\"responsive-news\"&gt;\\n&lt;head  prefix=\"og: http://ogp.me/ns#\"&gt;\\n    &lt;meta charset=\"utf-8\"&gt;\\n    &lt;meta http-equiv=\"X-UA-Compatible\" content=\"IE=edge,chrome=1\"&gt;\\n    ...</td>\n",
       "      <td>The Argentine navy has said it has abandoned attempts to rescue 44 crew members on board a submarine that disappeared two weeks ago.\\n\\n\"Despite the magnitude of the efforts made, it has not been ...</td>\n",
       "      <td></td>\n",
       "      <td>http://www.bbc.com</td>\n",
       "      <td>166</td>\n",
       "    </tr>\n",
       "    <tr>\n",
       "      <th>1</th>\n",
       "      <td>http://www.bbc.com/news/world-us-canada-42173927</td>\n",
       "      <td>Air Transat slapped with $228,000 fine for tarmac delay</td>\n",
       "      <td>&lt;!DOCTYPE html&gt;\\n&lt;html lang=\"en\" id=\"responsive-news\"&gt;\\n&lt;head  prefix=\"og: http://ogp.me/ns#\"&gt;\\n    &lt;meta charset=\"utf-8\"&gt;\\n    &lt;meta http-equiv=\"X-UA-Compatible\" content=\"IE=edge,chrome=1\"&gt;\\n    ...</td>\n",
       "      <td>Image caption Air Transat has been fined for a lengthy tarmac delay\\n\\nAir Transat has been fined C$295,000 ($228,000; £169,000) after passengers had to wait on the tarmac for up to six hours with...</td>\n",
       "      <td></td>\n",
       "      <td>http://www.bbc.com</td>\n",
       "      <td>347</td>\n",
       "    </tr>\n",
       "    <tr>\n",
       "      <th>2</th>\n",
       "      <td>https://blogs.wsj.com/moneybeat/2017/11/30/3m-leads-dow-to-latest-milestone/</td>\n",
       "      <td>3M Leads Dow to Latest Milestone</td>\n",
       "      <td>&lt;!DOCTYPE html&gt;\\n&lt;!-- TESLA DESKTOP16 V1 RESPONSIVE_ARTICLE FULL --&gt;\\n&lt;html\\n  itemscope=\"\"\\n  itemtype=\"http://schema.org/WebPage\"\\n  xmlns=\"http://www.w3.org/1999/xhtml\"\\n  lang=\"en-US\"\\n  data-...</td>\n",
       "      <td>The Dow Jones Industrial Average just closed above its fifth round-number milestone of the year. This time, industrial giant was in the driver’s seat. The Dow hit 24000 on Thursday, just 30 days a...</td>\n",
       "      <td>Chelsey Dulaney</td>\n",
       "      <td>https://www.wsj.com</td>\n",
       "      <td>60</td>\n",
       "    </tr>\n",
       "    <tr>\n",
       "      <th>3</th>\n",
       "      <td>https://www.wsj.com/articles/the-good-the-bad-and-the-ugly-industry-reaction-to-the-proposed-tax-overhaul-1512078188?tesla=y</td>\n",
       "      <td>What a Tax Overhaul Means for Your Industry</td>\n",
       "      <td>&lt;!DOCTYPE html&gt;\\n&lt;!-- TESLA DESKTOP16 V1 RESPONSIVE_ARTICLE SNIPPET --&gt;\\n&lt;html\\n  itemscope=\"\"\\n  itemtype=\"http://schema.org/WebPage\"\\n  xmlns=\"http://www.w3.org/1999/xhtml\"\\n  lang=\"en-US\"\\n  da...</td>\n",
       "      <td>U.S. STOCKS\\n\\nThe tax overhaul making its way through Congress could help many stocks, providing another potential lift to an 8-year-old bull market.\\n\\nA reduction in the corporate tax rate is e...</td>\n",
       "      <td>A Wsj Roundup</td>\n",
       "      <td>https://www.wsj.com</td>\n",
       "      <td>87</td>\n",
       "    </tr>\n",
       "    <tr>\n",
       "      <th>4</th>\n",
       "      <td>https://www.wsj.com/articles/taylor-swifts-reputation-ready-for-streaming-1512078231</td>\n",
       "      <td>Taylor Swift’s ‘Reputation’ Ready for Streaming</td>\n",
       "      <td>&lt;!DOCTYPE html&gt;\\n&lt;!-- TESLA DESKTOP16 V1 RESPONSIVE_ARTICLE SNIPPET --&gt;\\n&lt;html\\n  itemscope=\"\"\\n  itemtype=\"http://schema.org/WebPage\"\\n  xmlns=\"http://www.w3.org/1999/xhtml\"\\n  lang=\"en-US\"\\n  da...</td>\n",
       "      <td>Streaming-music subscribers will finally get access to Taylor Swift’s newest album, three weeks after it went on sale, according to people familiar with the matter.\\n\\n“Reputation,” the pop-star’s...</td>\n",
       "      <td>Anne Steele-Anne.Steele Wsj.Com</td>\n",
       "      <td>https://www.wsj.com</td>\n",
       "      <td>67</td>\n",
       "    </tr>\n",
       "  </tbody>\n",
       "</table>\n",
       "</div>"
      ],
      "text/plain": [
       "                                                                                                                            url  \\\n",
       "0                                                                          http://www.bbc.com/news/world-latin-america-42187139   \n",
       "1                                                                              http://www.bbc.com/news/world-us-canada-42173927   \n",
       "2                                                  https://blogs.wsj.com/moneybeat/2017/11/30/3m-leads-dow-to-latest-milestone/   \n",
       "3  https://www.wsj.com/articles/the-good-the-bad-and-the-ugly-industry-reaction-to-the-proposed-tax-overhaul-1512078188?tesla=y   \n",
       "4                                          https://www.wsj.com/articles/taylor-swifts-reputation-ready-for-streaming-1512078231   \n",
       "\n",
       "                                                     title  \\\n",
       "0              Argentina ends missing sub 'rescue mission'   \n",
       "1  Air Transat slapped with $228,000 fine for tarmac delay   \n",
       "2                         3M Leads Dow to Latest Milestone   \n",
       "3              What a Tax Overhaul Means for Your Industry   \n",
       "4          Taylor Swift’s ‘Reputation’ Ready for Streaming   \n",
       "\n",
       "                                                                                                                                                                                                      html  \\\n",
       "0  <!DOCTYPE html>\\n<html lang=\"en\" id=\"responsive-news\">\\n<head  prefix=\"og: http://ogp.me/ns#\">\\n    <meta charset=\"utf-8\">\\n    <meta http-equiv=\"X-UA-Compatible\" content=\"IE=edge,chrome=1\">\\n    ...   \n",
       "1  <!DOCTYPE html>\\n<html lang=\"en\" id=\"responsive-news\">\\n<head  prefix=\"og: http://ogp.me/ns#\">\\n    <meta charset=\"utf-8\">\\n    <meta http-equiv=\"X-UA-Compatible\" content=\"IE=edge,chrome=1\">\\n    ...   \n",
       "2  <!DOCTYPE html>\\n<!-- TESLA DESKTOP16 V1 RESPONSIVE_ARTICLE FULL -->\\n<html\\n  itemscope=\"\"\\n  itemtype=\"http://schema.org/WebPage\"\\n  xmlns=\"http://www.w3.org/1999/xhtml\"\\n  lang=\"en-US\"\\n  data-...   \n",
       "3  <!DOCTYPE html>\\n<!-- TESLA DESKTOP16 V1 RESPONSIVE_ARTICLE SNIPPET -->\\n<html\\n  itemscope=\"\"\\n  itemtype=\"http://schema.org/WebPage\"\\n  xmlns=\"http://www.w3.org/1999/xhtml\"\\n  lang=\"en-US\"\\n  da...   \n",
       "4  <!DOCTYPE html>\\n<!-- TESLA DESKTOP16 V1 RESPONSIVE_ARTICLE SNIPPET -->\\n<html\\n  itemscope=\"\"\\n  itemtype=\"http://schema.org/WebPage\"\\n  xmlns=\"http://www.w3.org/1999/xhtml\"\\n  lang=\"en-US\"\\n  da...   \n",
       "\n",
       "                                                                                                                                                                                                      text  \\\n",
       "0  The Argentine navy has said it has abandoned attempts to rescue 44 crew members on board a submarine that disappeared two weeks ago.\\n\\n\"Despite the magnitude of the efforts made, it has not been ...   \n",
       "1  Image caption Air Transat has been fined for a lengthy tarmac delay\\n\\nAir Transat has been fined C$295,000 ($228,000; £169,000) after passengers had to wait on the tarmac for up to six hours with...   \n",
       "2  The Dow Jones Industrial Average just closed above its fifth round-number milestone of the year. This time, industrial giant was in the driver’s seat. The Dow hit 24000 on Thursday, just 30 days a...   \n",
       "3  U.S. STOCKS\\n\\nThe tax overhaul making its way through Congress could help many stocks, providing another potential lift to an 8-year-old bull market.\\n\\nA reduction in the corporate tax rate is e...   \n",
       "4  Streaming-music subscribers will finally get access to Taylor Swift’s newest album, three weeks after it went on sale, according to people familiar with the matter.\\n\\n“Reputation,” the pop-star’s...   \n",
       "\n",
       "                           authors               domain  word_count  \n",
       "0                                    http://www.bbc.com         166  \n",
       "1                                    http://www.bbc.com         347  \n",
       "2                  Chelsey Dulaney  https://www.wsj.com          60  \n",
       "3                    A Wsj Roundup  https://www.wsj.com          87  \n",
       "4  Anne Steele-Anne.Steele Wsj.Com  https://www.wsj.com          67  "
      ]
     },
     "execution_count": 151,
     "metadata": {},
     "output_type": "execute_result"
    }
   ],
   "source": [
    "df = pd.read_pickle('dataset/real_data.pickle')\n",
    "print(df.shape)\n",
    "df.head()"
   ]
  },
  {
   "cell_type": "code",
   "execution_count": 107,
   "metadata": {
    "collapsed": false
   },
   "outputs": [],
   "source": [
    "import numpy as np\n",
    "import matplotlib.pyplot as plt\n",
    "import scipy.stats as stats\n",
    "pd.options.display.max_colwidth = 200"
   ]
  },
  {
   "cell_type": "code",
   "execution_count": 108,
   "metadata": {
    "collapsed": false
   },
   "outputs": [],
   "source": [
    "vals =  np.array(list(df.word_count.values))\n",
    "indicies = np.argsort(vals)"
   ]
  },
  {
   "cell_type": "code",
   "execution_count": 150,
   "metadata": {
    "collapsed": false
   },
   "outputs": [
    {
     "data": {
      "image/png": "[encoded data removed]",
      "text/plain": [
       "<matplotlib.figure.Figure at 0x17ecd2198>"
      ]
     },
     "metadata": {},
     "output_type": "display_data"
    }
   ],
   "source": [
    "# Data before cleaning\n",
    "sorted_vals = [vals[i] for i in indicies]\n",
    "fit = stats.norm.pdf(sorted_vals, np.mean(sorted_vals), np.std(sorted_vals))\n",
    "plt.plot(sorted_vals, fit)\n",
    "plt.hist(sorted_vals,normed=True)\n",
    "plt.show()"
   ]
  },
  {
   "cell_type": "code",
   "execution_count": 149,
   "metadata": {
    "collapsed": false
   },
   "outputs": [
    {
     "name": "stdout",
     "output_type": "stream",
     "text": [
      "0\n"
     ]
    }
   ],
   "source": [
    "# Remove all articles less than 30 words\n",
    "indicies_30 = np.where(vals<30)[0]\n",
    "sorted_vals = [x for x in indicies if x in indicies_30]\n",
    "print(len(sorted_vals))\n",
    "# print(df.loc[sorted_vals]['url'])\n",
    "# NOTE: \n",
    "# These urls seem to be mostly not found\n",
    "# print(df.loc[898])"
   ]
  },
  {
   "cell_type": "code",
   "execution_count": 148,
   "metadata": {
    "collapsed": false
   },
   "outputs": [
    {
     "name": "stdout",
     "output_type": "stream",
     "text": [
      "87\n"
     ]
    }
   ],
   "source": [
    "indicies_40 = np.where(np.logical_and(vals>100, vals<110))[0]\n",
    "sorted_vals = [x for x in indicies if x in indicies_40]\n",
    "print(len(sorted_vals))\n",
    "# print(df.loc[sorted_vals]['url'])\n",
    "# Note: Articles under 100 words seem to be illegitemate articles such as video descriptions or other lanugages"
   ]
  },
  {
   "cell_type": "code",
   "execution_count": 123,
   "metadata": {
    "collapsed": false
   },
   "outputs": [],
   "source": [
    "# Remove articles with a word count less than 100\n",
    "vals =  np.array(list(df.word_count.values))\n",
    "indicies = np.argsort(vals)\n",
    "indicies_100 = np.where(vals>=100)[0]\n",
    "sorted_vals = [x for x in indicies if x in indicies_100]\n",
    "print(len(sorted_vals))\n",
    "# Store cleaned data\n",
    "df.loc[sorted_vals].to_pickle('clean_real_data.pickle')"
   ]
  },
  {
   "cell_type": "code",
   "execution_count": 147,
   "metadata": {
    "collapsed": false
   },
   "outputs": [
    {
     "data": {
      "image/png": "[encoded data removed]",
      "text/plain": [
       "<matplotlib.figure.Figure at 0x17e55dd68>"
      ]
     },
     "metadata": {},
     "output_type": "display_data"
    }
   ],
   "source": [
    "df_clean = pd.read_pickle('clean_real_data.pickle')\n",
    "print(df_clean.shape)\n",
    "df = df_clean\n",
    "vals = np.array(list(df.word_count.values))\n",
    "indicies = np.argsort(vals)\n",
    "sorted_vals = [vals[i] for i in indicies]\n",
    "# 99% of our articles\n",
    "sorted_vals = sorted_vals[:int(len(sorted_vals)*.99)]\n",
    "\n",
    "fit = stats.norm.pdf(sorted_vals, np.mean(sorted_vals), np.std(sorted_vals))\n",
    "plt.plot(sorted_vals, fit)\n",
    "plt.hist(sorted_vals,normed=True)\n",
    "plt.show()"
   ]
  },
  {
   "cell_type": "markdown",
   "metadata": {},
   "source": [
    "# Format Real News data"
   ]
  },
  {
   "cell_type": "code",
   "execution_count": 11,
   "metadata": {
    "collapsed": false
   },
   "outputs": [],
   "source": [
    "# Index: \n",
    "\n",
    "title = [\"authors\",\"date\",\"text\",\"domain\"]\n",
    "df = pd.read_pickle('dataset/real_data_clean.pickle')"
   ]
  },
  {
   "cell_type": "code",
   "execution_count": 167,
   "metadata": {
    "collapsed": false
   },
   "outputs": [],
   "source": [
    "# Create a random list of dates in range [Nov 30, Nov 31, Dec 1].\n",
    "dates = [\"30-11-2017\",\"31-11-2017\",\"01-12-2017\"]\n",
    "df['date'] = dates[0]\n",
    "pos = 0\n",
    "for i, row in df.iterrows():\n",
    "    if pos == 3:\n",
    "        pos = 0\n",
    "    df.loc[i,'date'] = dates[pos]\n",
    "    pos += 1"
   ]
  },
  {
   "cell_type": "code",
   "execution_count": 172,
   "metadata": {
    "collapsed": false
   },
   "outputs": [
    {
     "data": {
      "text/html": [
       "<div>\n",
       "<style>\n",
       "    .dataframe thead tr:only-child th {\n",
       "        text-align: right;\n",
       "    }\n",
       "\n",
       "    .dataframe thead th {\n",
       "        text-align: left;\n",
       "    }\n",
       "\n",
       "    .dataframe tbody tr th {\n",
       "        vertical-align: top;\n",
       "    }\n",
       "</style>\n",
       "<table border=\"1\" class=\"dataframe\">\n",
       "  <thead>\n",
       "    <tr style=\"text-align: right;\">\n",
       "      <th></th>\n",
       "      <th>authors</th>\n",
       "      <th>date</th>\n",
       "      <th>text</th>\n",
       "      <th>domain</th>\n",
       "    </tr>\n",
       "  </thead>\n",
       "  <tbody>\n",
       "    <tr>\n",
       "      <th>0</th>\n",
       "      <td>Chuck Altman-Rockymt-Pat Rick-Gator Jaw-Kay Martin-Roy Beane-Jjake Spitz-Racer X-Scott Henke-Frank Dipalo</td>\n",
       "      <td>30-11-2017</td>\n",
       "      <td>November 2, 2017\\n\\nOAN Newsroom\\n\\nThe Democratic National Committee sparks public outrage over its hiring preference for — quote — “non-white males.”\\n\\nA leaked email regarding eight IT job ope...</td>\n",
       "      <td>http://www.oann.com</td>\n",
       "    </tr>\n",
       "    <tr>\n",
       "      <th>1</th>\n",
       "      <td>His Highness-No Mas-Robert Adams-Kay Crawford-Nancy Pryor-Jon Mac-Deplorable Sitting Duck-Section Ate-Eddie Couch-She S Awake</td>\n",
       "      <td>31-11-2017</td>\n",
       "      <td>August 30, 2017\\n\\nOAN Newsroom\\n\\n11 states along with the District of Columbia run their own Obamacare exchanges, and want more federal funding.\\n\\nIn a letter dated August 29th to the Senate, H...</td>\n",
       "      <td>http://www.oann.com</td>\n",
       "    </tr>\n",
       "    <tr>\n",
       "      <th>2</th>\n",
       "      <td>Oddz Endz-C B-Mark Abby-Jorge Sedais-Phil M. Kelley-Scott Henke-All American-Billy Bones</td>\n",
       "      <td>01-12-2017</td>\n",
       "      <td>August 25, 2017\\n\\nOAN Newsroom\\n\\nPresident Trump could be considering a former Apprentice contestant to promote a healthy lifestyle in the U.S.\\n\\nLou Ferrigno — who’s known for playing the Incr...</td>\n",
       "      <td>http://www.oann.com</td>\n",
       "    </tr>\n",
       "    <tr>\n",
       "      <th>3</th>\n",
       "      <td></td>\n",
       "      <td>30-11-2017</td>\n",
       "      <td>If you've donated using PayPal, it may take up to three days for us to process your donation and send you a receipt. If you donated by sending a check, it may take up to two weeks for us to receiv...</td>\n",
       "      <td>https://nutritionfacts.org</td>\n",
       "    </tr>\n",
       "    <tr>\n",
       "      <th>4</th>\n",
       "      <td>Donnie Newell-J. Waltam-Sandy Harris-I M A Rooster-The One After-Cassy Is Sassy-Bill Jr</td>\n",
       "      <td>31-11-2017</td>\n",
       "      <td>August 10, 2017\\n\\nOAN Newsroom\\n\\nOregon raises the legal age required to purchase tobacco products to 21.\\n\\nGovernor Kate Brown signed the Senate bill Wednesday, and will take effect January fi...</td>\n",
       "      <td>http://www.oann.com</td>\n",
       "    </tr>\n",
       "  </tbody>\n",
       "</table>\n",
       "</div>"
      ],
      "text/plain": [
       "                                                                                                                         authors  \\\n",
       "0                      Chuck Altman-Rockymt-Pat Rick-Gator Jaw-Kay Martin-Roy Beane-Jjake Spitz-Racer X-Scott Henke-Frank Dipalo   \n",
       "1  His Highness-No Mas-Robert Adams-Kay Crawford-Nancy Pryor-Jon Mac-Deplorable Sitting Duck-Section Ate-Eddie Couch-She S Awake   \n",
       "2                                       Oddz Endz-C B-Mark Abby-Jorge Sedais-Phil M. Kelley-Scott Henke-All American-Billy Bones   \n",
       "3                                                                                                                                  \n",
       "4                                        Donnie Newell-J. Waltam-Sandy Harris-I M A Rooster-The One After-Cassy Is Sassy-Bill Jr   \n",
       "\n",
       "         date  \\\n",
       "0  30-11-2017   \n",
       "1  31-11-2017   \n",
       "2  01-12-2017   \n",
       "3  30-11-2017   \n",
       "4  31-11-2017   \n",
       "\n",
       "                                                                                                                                                                                                      text  \\\n",
       "0  November 2, 2017\\n\\nOAN Newsroom\\n\\nThe Democratic National Committee sparks public outrage over its hiring preference for — quote — “non-white males.”\\n\\nA leaked email regarding eight IT job ope...   \n",
       "1  August 30, 2017\\n\\nOAN Newsroom\\n\\n11 states along with the District of Columbia run their own Obamacare exchanges, and want more federal funding.\\n\\nIn a letter dated August 29th to the Senate, H...   \n",
       "2  August 25, 2017\\n\\nOAN Newsroom\\n\\nPresident Trump could be considering a former Apprentice contestant to promote a healthy lifestyle in the U.S.\\n\\nLou Ferrigno — who’s known for playing the Incr...   \n",
       "3  If you've donated using PayPal, it may take up to three days for us to process your donation and send you a receipt. If you donated by sending a check, it may take up to two weeks for us to receiv...   \n",
       "4  August 10, 2017\\n\\nOAN Newsroom\\n\\nOregon raises the legal age required to purchase tobacco products to 21.\\n\\nGovernor Kate Brown signed the Senate bill Wednesday, and will take effect January fi...   \n",
       "\n",
       "                       domain  \n",
       "0         http://www.oann.com  \n",
       "1         http://www.oann.com  \n",
       "2         http://www.oann.com  \n",
       "3  https://nutritionfacts.org  \n",
       "4         http://www.oann.com  "
      ]
     },
     "execution_count": 172,
     "metadata": {},
     "output_type": "execute_result"
    }
   ],
   "source": [
    "df = df[title]\n",
    "df = df.reset_index(drop=True)\n",
    "df.head()"
   ]
  },
  {
   "cell_type": "code",
   "execution_count": 173,
   "metadata": {
    "collapsed": false
   },
   "outputs": [
    {
     "data": {
      "text/plain": [
       "(6352, 4)"
      ]
     },
     "execution_count": 173,
     "metadata": {},
     "output_type": "execute_result"
    }
   ],
   "source": [
    "df.shape"
   ]
  },
  {
   "cell_type": "code",
   "execution_count": 174,
   "metadata": {
    "collapsed": true
   },
   "outputs": [],
   "source": [
    "df.to_pickle(\"real_data_formatted.pickle\")"
   ]
  },
  {
   "cell_type": "code",
   "execution_count": 18,
   "metadata": {
    "collapsed": false
   },
   "outputs": [
    {
     "data": {
      "text/plain": [
       "(6352, 4)"
      ]
     },
     "execution_count": 18,
     "metadata": {},
     "output_type": "execute_result"
    }
   ],
   "source": [
    "df = pd.read_pickle(\"dataset/real_data_formatted.pickle\")\n",
    "df.shape"
   ]
  },
  {
   "cell_type": "code",
   "execution_count": 19,
   "metadata": {
    "collapsed": true
   },
   "outputs": [],
   "source": [
    "df.to_csv(\"dataset/real_clean.csv\",index=False,encoding='utf-8')"
   ]
  },
  {
   "cell_type": "markdown",
   "metadata": {
    "collapsed": true
   },
   "source": [
    "# Fake Dataset"
   ]
  },
  {
   "cell_type": "code",
   "execution_count": 30,
   "metadata": {
    "collapsed": false
   },
   "outputs": [
    {
     "name": "stdout",
     "output_type": "stream",
     "text": [
      "(12357, 5)\n"
     ]
    },
    {
     "data": {
      "text/html": [
       "<div>\n",
       "<style>\n",
       "    .dataframe thead tr:only-child th {\n",
       "        text-align: right;\n",
       "    }\n",
       "\n",
       "    .dataframe thead th {\n",
       "        text-align: left;\n",
       "    }\n",
       "\n",
       "    .dataframe tbody tr th {\n",
       "        vertical-align: top;\n",
       "    }\n",
       "</style>\n",
       "<table border=\"1\" class=\"dataframe\">\n",
       "  <thead>\n",
       "    <tr style=\"text-align: right;\">\n",
       "      <th></th>\n",
       "      <th>authors</th>\n",
       "      <th>date</th>\n",
       "      <th>title</th>\n",
       "      <th>text</th>\n",
       "      <th>domain</th>\n",
       "    </tr>\n",
       "  </thead>\n",
       "  <tbody>\n",
       "    <tr>\n",
       "      <th>0</th>\n",
       "      <td>Barracuda Brigade</td>\n",
       "      <td>26-10-2016</td>\n",
       "      <td>Muslims BUSTED: They Stole Millions In Gov’t B...</td>\n",
       "      <td>Print They should pay all the back all the mon...</td>\n",
       "      <td>100percentfedup.com</td>\n",
       "    </tr>\n",
       "    <tr>\n",
       "      <th>1</th>\n",
       "      <td>reasoning with facts</td>\n",
       "      <td>29-10-2016</td>\n",
       "      <td>Re: Why Did Attorney General Loretta Lynch Ple...</td>\n",
       "      <td>Why Did Attorney General Loretta Lynch Plead T...</td>\n",
       "      <td>100percentfedup.com</td>\n",
       "    </tr>\n",
       "    <tr>\n",
       "      <th>2</th>\n",
       "      <td>Barracuda Brigade</td>\n",
       "      <td>31-10-2016</td>\n",
       "      <td>BREAKING: Weiner Cooperating With FBI On Hilla...</td>\n",
       "      <td>Red State : \\nFox News Sunday reported this mo...</td>\n",
       "      <td>100percentfedup.com</td>\n",
       "    </tr>\n",
       "    <tr>\n",
       "      <th>3</th>\n",
       "      <td>Fed Up</td>\n",
       "      <td>01-11-2016</td>\n",
       "      <td>PIN DROP SPEECH BY FATHER OF DAUGHTER Kidnappe...</td>\n",
       "      <td>Email Kayla Mueller was a prisoner and torture...</td>\n",
       "      <td>100percentfedup.com</td>\n",
       "    </tr>\n",
       "    <tr>\n",
       "      <th>4</th>\n",
       "      <td>Fed Up</td>\n",
       "      <td>01-11-2016</td>\n",
       "      <td>FANTASTIC! TRUMP'S 7 POINT PLAN To Reform Heal...</td>\n",
       "      <td>Email HEALTHCARE REFORM TO MAKE AMERICA GREAT ...</td>\n",
       "      <td>100percentfedup.com</td>\n",
       "    </tr>\n",
       "  </tbody>\n",
       "</table>\n",
       "</div>"
      ],
      "text/plain": [
       "                authors        date  \\\n",
       "0     Barracuda Brigade  26-10-2016   \n",
       "1  reasoning with facts  29-10-2016   \n",
       "2     Barracuda Brigade  31-10-2016   \n",
       "3                Fed Up  01-11-2016   \n",
       "4                Fed Up  01-11-2016   \n",
       "\n",
       "                                               title  \\\n",
       "0  Muslims BUSTED: They Stole Millions In Gov’t B...   \n",
       "1  Re: Why Did Attorney General Loretta Lynch Ple...   \n",
       "2  BREAKING: Weiner Cooperating With FBI On Hilla...   \n",
       "3  PIN DROP SPEECH BY FATHER OF DAUGHTER Kidnappe...   \n",
       "4  FANTASTIC! TRUMP'S 7 POINT PLAN To Reform Heal...   \n",
       "\n",
       "                                                text               domain  \n",
       "0  Print They should pay all the back all the mon...  100percentfedup.com  \n",
       "1  Why Did Attorney General Loretta Lynch Plead T...  100percentfedup.com  \n",
       "2  Red State : \\nFox News Sunday reported this mo...  100percentfedup.com  \n",
       "3  Email Kayla Mueller was a prisoner and torture...  100percentfedup.com  \n",
       "4  Email HEALTHCARE REFORM TO MAKE AMERICA GREAT ...  100percentfedup.com  "
      ]
     },
     "execution_count": 30,
     "metadata": {},
     "output_type": "execute_result"
    }
   ],
   "source": [
    "df = pd.read_csv(\"dataset/fake_clean.csv\")\n",
    "print(df.shape)\n",
    "df.head()"
   ]
  },
  {
   "cell_type": "code",
   "execution_count": null,
   "metadata": {
    "collapsed": false
   },
   "outputs": [],
   "source": [
    "\n"
   ]
  }
 ],
 "metadata": {
  "anaconda-cloud": {},
  "kernelspec": {
   "display_name": "Python [conda env:py36]",
   "language": "python",
   "name": "conda-env-py36-py"
  },
  "language_info": {
   "codemirror_mode": {
    "name": "ipython",
    "version": 3
   },
   "file_extension": ".py",
   "mimetype": "text/x-python",
   "name": "python",
   "nbconvert_exporter": "python",
   "pygments_lexer": "ipython3",
   "version": "3.6.3"
  }
 },
 "nbformat": 4,
 "nbformat_minor": 2
}
